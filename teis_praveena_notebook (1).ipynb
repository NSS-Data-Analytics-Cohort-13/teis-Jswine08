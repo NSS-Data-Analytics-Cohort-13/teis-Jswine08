{
 "cells": [
  {
   "cell_type": "code",
   "execution_count": 1,
   "id": "775bc89f-c914-4218-bd1b-fccd1fe122e9",
   "metadata": {},
   "outputs": [],
   "source": [
    "import numpy as np\n",
    "\n",
    "import pandas as pd"
   ]
  },
  {
   "cell_type": "code",
   "execution_count": 2,
   "id": "7a02351e-1b87-40cf-a09f-dc41d39852e2",
   "metadata": {},
   "outputs": [],
   "source": [
    "pd.set_option('display.max_columns', None)\n",
    "#pd.set_option('display.max_rows', None)"
   ]
  },
  {
   "cell_type": "markdown",
   "id": "8ac3ea2b-1a99-49bf-9b9c-fa5f9da2f1d5",
   "metadata": {},
   "source": [
    "### BDI2 Data Frame"
   ]
  },
  {
   "cell_type": "code",
   "execution_count": 4,
   "id": "36125d03-b47a-493e-927a-1481fc81dfd0",
   "metadata": {},
   "outputs": [
    {
     "ename": "FileNotFoundError",
     "evalue": "[Errno 2] No such file or directory: '../data/data_BDI2.csv'",
     "output_type": "error",
     "traceback": [
      "\u001b[1;31m---------------------------------------------------------------------------\u001b[0m",
      "\u001b[1;31mFileNotFoundError\u001b[0m                         Traceback (most recent call last)",
      "Cell \u001b[1;32mIn[4], line 1\u001b[0m\n\u001b[1;32m----> 1\u001b[0m df_bdi2 \u001b[38;5;241m=\u001b[39m pd\u001b[38;5;241m.\u001b[39mread_csv(\u001b[38;5;124m'\u001b[39m\u001b[38;5;124m../data/data_BDI2.csv\u001b[39m\u001b[38;5;124m'\u001b[39m)\n\u001b[0;32m      2\u001b[0m df_bdi2\n",
      "File \u001b[1;32m~\\anaconda3\\Lib\\site-packages\\pandas\\io\\parsers\\readers.py:1026\u001b[0m, in \u001b[0;36mread_csv\u001b[1;34m(filepath_or_buffer, sep, delimiter, header, names, index_col, usecols, dtype, engine, converters, true_values, false_values, skipinitialspace, skiprows, skipfooter, nrows, na_values, keep_default_na, na_filter, verbose, skip_blank_lines, parse_dates, infer_datetime_format, keep_date_col, date_parser, date_format, dayfirst, cache_dates, iterator, chunksize, compression, thousands, decimal, lineterminator, quotechar, quoting, doublequote, escapechar, comment, encoding, encoding_errors, dialect, on_bad_lines, delim_whitespace, low_memory, memory_map, float_precision, storage_options, dtype_backend)\u001b[0m\n\u001b[0;32m   1013\u001b[0m kwds_defaults \u001b[38;5;241m=\u001b[39m _refine_defaults_read(\n\u001b[0;32m   1014\u001b[0m     dialect,\n\u001b[0;32m   1015\u001b[0m     delimiter,\n\u001b[1;32m   (...)\u001b[0m\n\u001b[0;32m   1022\u001b[0m     dtype_backend\u001b[38;5;241m=\u001b[39mdtype_backend,\n\u001b[0;32m   1023\u001b[0m )\n\u001b[0;32m   1024\u001b[0m kwds\u001b[38;5;241m.\u001b[39mupdate(kwds_defaults)\n\u001b[1;32m-> 1026\u001b[0m \u001b[38;5;28;01mreturn\u001b[39;00m _read(filepath_or_buffer, kwds)\n",
      "File \u001b[1;32m~\\anaconda3\\Lib\\site-packages\\pandas\\io\\parsers\\readers.py:620\u001b[0m, in \u001b[0;36m_read\u001b[1;34m(filepath_or_buffer, kwds)\u001b[0m\n\u001b[0;32m    617\u001b[0m _validate_names(kwds\u001b[38;5;241m.\u001b[39mget(\u001b[38;5;124m\"\u001b[39m\u001b[38;5;124mnames\u001b[39m\u001b[38;5;124m\"\u001b[39m, \u001b[38;5;28;01mNone\u001b[39;00m))\n\u001b[0;32m    619\u001b[0m \u001b[38;5;66;03m# Create the parser.\u001b[39;00m\n\u001b[1;32m--> 620\u001b[0m parser \u001b[38;5;241m=\u001b[39m TextFileReader(filepath_or_buffer, \u001b[38;5;241m*\u001b[39m\u001b[38;5;241m*\u001b[39mkwds)\n\u001b[0;32m    622\u001b[0m \u001b[38;5;28;01mif\u001b[39;00m chunksize \u001b[38;5;129;01mor\u001b[39;00m iterator:\n\u001b[0;32m    623\u001b[0m     \u001b[38;5;28;01mreturn\u001b[39;00m parser\n",
      "File \u001b[1;32m~\\anaconda3\\Lib\\site-packages\\pandas\\io\\parsers\\readers.py:1620\u001b[0m, in \u001b[0;36mTextFileReader.__init__\u001b[1;34m(self, f, engine, **kwds)\u001b[0m\n\u001b[0;32m   1617\u001b[0m     \u001b[38;5;28mself\u001b[39m\u001b[38;5;241m.\u001b[39moptions[\u001b[38;5;124m\"\u001b[39m\u001b[38;5;124mhas_index_names\u001b[39m\u001b[38;5;124m\"\u001b[39m] \u001b[38;5;241m=\u001b[39m kwds[\u001b[38;5;124m\"\u001b[39m\u001b[38;5;124mhas_index_names\u001b[39m\u001b[38;5;124m\"\u001b[39m]\n\u001b[0;32m   1619\u001b[0m \u001b[38;5;28mself\u001b[39m\u001b[38;5;241m.\u001b[39mhandles: IOHandles \u001b[38;5;241m|\u001b[39m \u001b[38;5;28;01mNone\u001b[39;00m \u001b[38;5;241m=\u001b[39m \u001b[38;5;28;01mNone\u001b[39;00m\n\u001b[1;32m-> 1620\u001b[0m \u001b[38;5;28mself\u001b[39m\u001b[38;5;241m.\u001b[39m_engine \u001b[38;5;241m=\u001b[39m \u001b[38;5;28mself\u001b[39m\u001b[38;5;241m.\u001b[39m_make_engine(f, \u001b[38;5;28mself\u001b[39m\u001b[38;5;241m.\u001b[39mengine)\n",
      "File \u001b[1;32m~\\anaconda3\\Lib\\site-packages\\pandas\\io\\parsers\\readers.py:1880\u001b[0m, in \u001b[0;36mTextFileReader._make_engine\u001b[1;34m(self, f, engine)\u001b[0m\n\u001b[0;32m   1878\u001b[0m     \u001b[38;5;28;01mif\u001b[39;00m \u001b[38;5;124m\"\u001b[39m\u001b[38;5;124mb\u001b[39m\u001b[38;5;124m\"\u001b[39m \u001b[38;5;129;01mnot\u001b[39;00m \u001b[38;5;129;01min\u001b[39;00m mode:\n\u001b[0;32m   1879\u001b[0m         mode \u001b[38;5;241m+\u001b[39m\u001b[38;5;241m=\u001b[39m \u001b[38;5;124m\"\u001b[39m\u001b[38;5;124mb\u001b[39m\u001b[38;5;124m\"\u001b[39m\n\u001b[1;32m-> 1880\u001b[0m \u001b[38;5;28mself\u001b[39m\u001b[38;5;241m.\u001b[39mhandles \u001b[38;5;241m=\u001b[39m get_handle(\n\u001b[0;32m   1881\u001b[0m     f,\n\u001b[0;32m   1882\u001b[0m     mode,\n\u001b[0;32m   1883\u001b[0m     encoding\u001b[38;5;241m=\u001b[39m\u001b[38;5;28mself\u001b[39m\u001b[38;5;241m.\u001b[39moptions\u001b[38;5;241m.\u001b[39mget(\u001b[38;5;124m\"\u001b[39m\u001b[38;5;124mencoding\u001b[39m\u001b[38;5;124m\"\u001b[39m, \u001b[38;5;28;01mNone\u001b[39;00m),\n\u001b[0;32m   1884\u001b[0m     compression\u001b[38;5;241m=\u001b[39m\u001b[38;5;28mself\u001b[39m\u001b[38;5;241m.\u001b[39moptions\u001b[38;5;241m.\u001b[39mget(\u001b[38;5;124m\"\u001b[39m\u001b[38;5;124mcompression\u001b[39m\u001b[38;5;124m\"\u001b[39m, \u001b[38;5;28;01mNone\u001b[39;00m),\n\u001b[0;32m   1885\u001b[0m     memory_map\u001b[38;5;241m=\u001b[39m\u001b[38;5;28mself\u001b[39m\u001b[38;5;241m.\u001b[39moptions\u001b[38;5;241m.\u001b[39mget(\u001b[38;5;124m\"\u001b[39m\u001b[38;5;124mmemory_map\u001b[39m\u001b[38;5;124m\"\u001b[39m, \u001b[38;5;28;01mFalse\u001b[39;00m),\n\u001b[0;32m   1886\u001b[0m     is_text\u001b[38;5;241m=\u001b[39mis_text,\n\u001b[0;32m   1887\u001b[0m     errors\u001b[38;5;241m=\u001b[39m\u001b[38;5;28mself\u001b[39m\u001b[38;5;241m.\u001b[39moptions\u001b[38;5;241m.\u001b[39mget(\u001b[38;5;124m\"\u001b[39m\u001b[38;5;124mencoding_errors\u001b[39m\u001b[38;5;124m\"\u001b[39m, \u001b[38;5;124m\"\u001b[39m\u001b[38;5;124mstrict\u001b[39m\u001b[38;5;124m\"\u001b[39m),\n\u001b[0;32m   1888\u001b[0m     storage_options\u001b[38;5;241m=\u001b[39m\u001b[38;5;28mself\u001b[39m\u001b[38;5;241m.\u001b[39moptions\u001b[38;5;241m.\u001b[39mget(\u001b[38;5;124m\"\u001b[39m\u001b[38;5;124mstorage_options\u001b[39m\u001b[38;5;124m\"\u001b[39m, \u001b[38;5;28;01mNone\u001b[39;00m),\n\u001b[0;32m   1889\u001b[0m )\n\u001b[0;32m   1890\u001b[0m \u001b[38;5;28;01massert\u001b[39;00m \u001b[38;5;28mself\u001b[39m\u001b[38;5;241m.\u001b[39mhandles \u001b[38;5;129;01mis\u001b[39;00m \u001b[38;5;129;01mnot\u001b[39;00m \u001b[38;5;28;01mNone\u001b[39;00m\n\u001b[0;32m   1891\u001b[0m f \u001b[38;5;241m=\u001b[39m \u001b[38;5;28mself\u001b[39m\u001b[38;5;241m.\u001b[39mhandles\u001b[38;5;241m.\u001b[39mhandle\n",
      "File \u001b[1;32m~\\anaconda3\\Lib\\site-packages\\pandas\\io\\common.py:873\u001b[0m, in \u001b[0;36mget_handle\u001b[1;34m(path_or_buf, mode, encoding, compression, memory_map, is_text, errors, storage_options)\u001b[0m\n\u001b[0;32m    868\u001b[0m \u001b[38;5;28;01melif\u001b[39;00m \u001b[38;5;28misinstance\u001b[39m(handle, \u001b[38;5;28mstr\u001b[39m):\n\u001b[0;32m    869\u001b[0m     \u001b[38;5;66;03m# Check whether the filename is to be opened in binary mode.\u001b[39;00m\n\u001b[0;32m    870\u001b[0m     \u001b[38;5;66;03m# Binary mode does not support 'encoding' and 'newline'.\u001b[39;00m\n\u001b[0;32m    871\u001b[0m     \u001b[38;5;28;01mif\u001b[39;00m ioargs\u001b[38;5;241m.\u001b[39mencoding \u001b[38;5;129;01mand\u001b[39;00m \u001b[38;5;124m\"\u001b[39m\u001b[38;5;124mb\u001b[39m\u001b[38;5;124m\"\u001b[39m \u001b[38;5;129;01mnot\u001b[39;00m \u001b[38;5;129;01min\u001b[39;00m ioargs\u001b[38;5;241m.\u001b[39mmode:\n\u001b[0;32m    872\u001b[0m         \u001b[38;5;66;03m# Encoding\u001b[39;00m\n\u001b[1;32m--> 873\u001b[0m         handle \u001b[38;5;241m=\u001b[39m \u001b[38;5;28mopen\u001b[39m(\n\u001b[0;32m    874\u001b[0m             handle,\n\u001b[0;32m    875\u001b[0m             ioargs\u001b[38;5;241m.\u001b[39mmode,\n\u001b[0;32m    876\u001b[0m             encoding\u001b[38;5;241m=\u001b[39mioargs\u001b[38;5;241m.\u001b[39mencoding,\n\u001b[0;32m    877\u001b[0m             errors\u001b[38;5;241m=\u001b[39merrors,\n\u001b[0;32m    878\u001b[0m             newline\u001b[38;5;241m=\u001b[39m\u001b[38;5;124m\"\u001b[39m\u001b[38;5;124m\"\u001b[39m,\n\u001b[0;32m    879\u001b[0m         )\n\u001b[0;32m    880\u001b[0m     \u001b[38;5;28;01melse\u001b[39;00m:\n\u001b[0;32m    881\u001b[0m         \u001b[38;5;66;03m# Binary mode\u001b[39;00m\n\u001b[0;32m    882\u001b[0m         handle \u001b[38;5;241m=\u001b[39m \u001b[38;5;28mopen\u001b[39m(handle, ioargs\u001b[38;5;241m.\u001b[39mmode)\n",
      "\u001b[1;31mFileNotFoundError\u001b[0m: [Errno 2] No such file or directory: '../data/data_BDI2.csv'"
     ]
    }
   ],
   "source": [
    "df_bdi2 = pd.read_csv('../data/data_BDI2.csv')\n",
    "df_bdi2\n",
    "\n",
    "\n"
   ]
  },
  {
   "cell_type": "code",
   "execution_count": null,
   "id": "421bfed8-05b6-48da-b683-73b445cf5450",
   "metadata": {},
   "outputs": [],
   "source": [
    "# no_nulls_eco_exit = df_eco_data.dropna(axis=0, subset=['BDI 3\\nECO_Exit_DATE'])\n",
    "# no_nulls_eco_exit"
   ]
  },
  {
   "cell_type": "code",
   "execution_count": null,
   "id": "8ae2b581-4b7c-4547-adee-51a8031a9c57",
   "metadata": {},
   "outputs": [],
   "source": [
    "# df_merge = pd.merge(df_bdi2, df_bdi3, left_on='Student TEIDS ID', right_on='TEIDS Child ID', how='inner')\n",
    "# df_merge"
   ]
  },
  {
   "cell_type": "code",
   "execution_count": null,
   "id": "40686cd0-72eb-400e-8463-662796ca3aee",
   "metadata": {},
   "outputs": [],
   "source": [
    "# df_eco = pd.read_excel('../data/NSS_ECO Data Ind 3 FFY 2023-24 20241211 (1).xlsx' , sheet_name='ECO with Exit23-24 ') \n",
    "# df_eco"
   ]
  },
  {
   "cell_type": "code",
   "execution_count": null,
   "id": "e64d85d2-dbea-4506-aebd-83b013670ac2",
   "metadata": {},
   "outputs": [],
   "source": [
    "# df_eco = pd.read_csv('../data/NSS_ECO Data Ind 3 FFY 2023-24 20241211.xlsx - ECO with Exit23-24 .csv') \n",
    "# df_eco.head(2)"
   ]
  },
  {
   "cell_type": "code",
   "execution_count": null,
   "id": "c914a5a6-4a5e-4153-a00d-c604ec65f401",
   "metadata": {},
   "outputs": [],
   "source": [
    "# df_eco[\"More than 182 days btwn ECO (continued) and Exit?\"] == 'Yes'\n"
   ]
  },
  {
   "cell_type": "code",
   "execution_count": null,
   "id": "41372a7b-d246-4776-a4b0-dd27f3c036d9",
   "metadata": {},
   "outputs": [],
   "source": [
    "# df_merge_all = pd.merge(df_merge, df_eco, left_on='Student TEIDS ID', right_on='CHILD_ID', how='inner')\n",
    "# df_merge_all"
   ]
  },
  {
   "cell_type": "code",
   "execution_count": null,
   "id": "b796ed1f-e8be-49eb-9e33-cf44f07288f2",
   "metadata": {},
   "outputs": [],
   "source": [
    "#bdi2 data set with required columns\n",
    "df_bdi2_data = df_bdi2[['Student TEIDS ID','domainText','testDate','rawScore','DQScore','ZScore']]\n",
    "df_bdi2_data\n",
    "\n",
    "# pivot = df_bdi2_data.pivot_table(values=['rawScore', 'DQScore', 'ZScore'], \n",
    "#                                  columns='domainText', \n",
    "#                                  index='Student TEIDS ID', \n",
    "#                                  aggfunc='first')\n",
    "# pivot.head(5)"
   ]
  },
  {
   "cell_type": "code",
   "execution_count": null,
   "id": "addbcc5d-b80a-4402-9163-9f2995ee0442",
   "metadata": {},
   "outputs": [],
   "source": [
    "#bdi data frame converted  rows as columns\n",
    "score_columns = ['rawScore', 'DQScore', 'ZScore']\n",
    "#Melt the DataFrame to long format\n",
    "df_melted = df_bdi2_data.melt(id_vars=[\"Student TEIDS ID\",\"domainText\"], \n",
    "                              value_vars=score_columns, \n",
    "                              var_name=\"ScoreType\", \n",
    "                              value_name=\"Score\")\n",
    "df_melted[\"ColumnName\"] = df_melted[\"domainText\"] + \" \" + df_melted[\"ScoreType\"]\n",
    "#Pivot the data to have 'Student TEIDS ID' as rows and dynamic columns\n",
    "df_pivoted = df_melted.pivot_table(index=\"Student TEIDS ID\", \n",
    "                                   columns=\"ColumnName\",\n",
    "                                   values=\"Score\", \n",
    "                                   aggfunc=\"first\")\n",
    "df_pivoted.columns = df_pivoted.columns.get_level_values(0)\n",
    "df_bdi2_result = df_pivoted.reset_index()\n",
    "df_bdi2_result\n"
   ]
  },
  {
   "cell_type": "code",
   "execution_count": null,
   "id": "09db6fb9-293f-47b9-a19e-9bc7c976969e",
   "metadata": {},
   "outputs": [],
   "source": [
    "# bdi2_student_no=df_bdi2_data['Student TEIDS ID'].dropna()\n",
    "# bdi2_student_no"
   ]
  },
  {
   "cell_type": "code",
   "execution_count": null,
   "id": "5ee1d976-2bdc-4928-bf54-627174e11705",
   "metadata": {},
   "outputs": [],
   "source": []
  },
  {
   "cell_type": "markdown",
   "id": "a5d95bf1-ee02-4d18-a6a9-1a46aa632a24",
   "metadata": {},
   "source": [
    "### BDI3 data frame"
   ]
  },
  {
   "cell_type": "code",
   "execution_count": null,
   "id": "ea1b8963-35a1-46e8-b2ed-c28230c346e3",
   "metadata": {},
   "outputs": [],
   "source": [
    "\n",
    "# df_bdi3_1 = pd.read_excel('../data/NSS data_BDI3 Scores 20230101 20240630_Compiled_20241107.xlsx')\n",
    "# df_bdi3_1.head(3)"
   ]
  },
  {
   "cell_type": "code",
   "execution_count": null,
   "id": "217e327a-b02c-4125-a258-04571d887e90",
   "metadata": {},
   "outputs": [],
   "source": [
    "# df_bdi3_1.dtypes"
   ]
  },
  {
   "cell_type": "code",
   "execution_count": null,
   "id": "0964336e-4dbc-43c3-be3a-a8b7ae978cae",
   "metadata": {},
   "outputs": [],
   "source": [
    "# bdi3_new_columns_1 = df_bdi3_1[['TEIDS Child ID','Motor-Gross Motor RS', 'Adaptive-Self Care RS', 'Motor-Fine Motor RS', 'Motor-Perceptual Motor RS', 'Adaptive-Personal Responsibility RS', 'Social Emotional-Adult Interaction RS', 'Social Emotional-Peer Interaction RS','Social Emotional-Self Concept / Social Role RS','Communication-Receptive Communication RS','Communication-Expressive Communication RS','Cognitive-Attention and Memory RS','Cognitive-Reasoning / Academic Skills RS','Cognitive-Perception and Concepts RS', 'Motor-Fine Motor Date of Testing', 'BDI-3 Total Developmental Quotient', 'Adaptive Z-Score', 'Social-Emotional Z-Score', 'Communication Z-Score', 'Motor Z-Score', 'Cognitive Z-Score', 'Adaptive-Self Care Z-Score', 'Adaptive-Personal Responsibility Z-Score', 'Social Emotional-Adult Interaction Z-Score', 'Social Emotional-Peer Interaction Z-Score', 'Social Emotional-Self Concept / Social Role Z-Score', 'Communication-Receptive Communication Z-Score', 'Communication-Expressive Communication Z-Score', 'Motor-Gross Motor Z-Score', 'Motor-Fine Motor Z-Score', 'Motor-Perceptual Motor Z-Score', 'Cognitive-Attention and Memory Z-Score', 'Cognitive-Reasoning / Academic Skills Z-Score', 'Cognitive-Perception and Concepts Z-Score', 'Cognitive-Perception and Concepts Date of Testing']]\n",
    "# bdi3_new_columns_1['TEIDS Child ID'].dropna()\n",
    "# bdi3_new_columns_1"
   ]
  },
  {
   "cell_type": "code",
   "execution_count": null,
   "id": "dca2c3cd-8078-49ff-830a-180a880339bd",
   "metadata": {},
   "outputs": [],
   "source": [
    "# bdi3 = pd.read_csv('../projects/teis-Jswine08/Data/NSS data_BDI3 Scores 20230101 20240630_Compiled_20241107.xlsx - BDI3 Scores 20230101 20240630_C.csv')\n",
    "df_bdi3 = pd.read_csv('../data/data_BDI3.csv')\n",
    "df_bdi3.head(3)\n"
   ]
  },
  {
   "cell_type": "code",
   "execution_count": null,
   "id": "f230b16f-f0e5-43ff-b20a-447c8a6fc516",
   "metadata": {},
   "outputs": [],
   "source": [
    "bdi3_new_columns = df_bdi3[['TEIDS Child ID','Motor-Gross Motor RS', 'Adaptive-Self Care RS','Adaptive Developmental Quotient','Social-Emotional Developmental Quotient','Communication Developmental Quotient','Motor Developmental Quotient','Cognitive Developmental Quotient','Motor-Fine Motor RS', 'Motor-Perceptual Motor RS', 'Adaptive-Personal Responsibility RS', 'Social Emotional-Adult Interaction RS', 'Social Emotional-Peer Interaction RS','Social Emotional-Self Concept / Social Role RS','Communication-Receptive Communication RS','Communication-Expressive Communication RS','Cognitive-Attention and Memory RS','Cognitive-Reasoning / Academic Skills RS','Cognitive-Perception and Concepts RS', 'Motor-Fine Motor Date of Testing', 'BDI-3 Total Developmental Quotient', 'Adaptive Z-Score', 'Social-Emotional Z-Score', 'Communication Z-Score', 'Motor Z-Score', 'Cognitive Z-Score', 'Adaptive-Self Care Z-Score', 'Adaptive-Personal Responsibility Z-Score', 'Social Emotional-Adult Interaction Z-Score', 'Social Emotional-Peer Interaction Z-Score', 'Social Emotional-Self Concept / Social Role Z-Score', 'Communication-Receptive Communication Z-Score', 'Communication-Expressive Communication Z-Score', 'Motor-Gross Motor Z-Score', 'Motor-Fine Motor Z-Score', 'Motor-Perceptual Motor Z-Score', 'Cognitive-Attention and Memory Z-Score', 'Cognitive-Reasoning / Academic Skills Z-Score', 'Cognitive-Perception and Concepts Z-Score', 'Cognitive-Perception and Concepts Date of Testing']]\n",
    "bdi3_new_columns['TEIDS Child ID'].dropna()\n",
    "bdi3_new_columns"
   ]
  },
  {
   "cell_type": "code",
   "execution_count": null,
   "id": "f13187bd-5304-4a0e-98d7-84b18e98eb07",
   "metadata": {},
   "outputs": [],
   "source": [
    "bdi3_new_columns.dtypes\n"
   ]
  },
  {
   "cell_type": "code",
   "execution_count": null,
   "id": "a77c5597-0c48-4ff1-8f41-fd22b4cd6251",
   "metadata": {},
   "outputs": [],
   "source": [
    "bdi3_students_no=bdi3_new_columns['TEIDS Child ID'].dropna()\n",
    "bdi3_students_no"
   ]
  },
  {
   "cell_type": "markdown",
   "id": "fbfc2692-f9f1-4eae-ad11-9a2b7bd603ab",
   "metadata": {},
   "source": [
    "### ECO data frame"
   ]
  },
  {
   "cell_type": "code",
   "execution_count": null,
   "id": "259271c6-056a-4e83-a67a-95149e73329d",
   "metadata": {},
   "outputs": [],
   "source": [
    "df_eco = pd.read_csv('../data/NSS_ECO.csv')\n",
    "df_eco\n"
   ]
  },
  {
   "cell_type": "code",
   "execution_count": null,
   "id": "19d3d0d2-5259-4709-b690-91cd1435942c",
   "metadata": {},
   "outputs": [],
   "source": [
    "df_eco_data = df_eco[['CHILD_ID','ECO_Entry_DATE','ECO_Exit_DATE','Initial IFSP Date','TEIDS\\nECO_Entry_DATE','BDI 3\\nECO_Entry_DATE','BDI 3\\nECO_Exit_DATE','BDI2 Entry Date','<Calc> Months in Program']]\n",
    "# df_eco_filtered = df_eco_data[df_eco_data['BDI 3\\nECO_Entry_DATE'].notna()]\n",
    "df_eco_filtered = df_eco_data[df_eco_data['BDI 3\\nECO_Exit_DATE'].notna()]\n",
    "\n",
    "# df_eco_filtered = df_eco_data[\n",
    "#     df_eco_data['BDI 3\\nECO_Entry_DATE'].notna() | df_eco_data['BDI 3\\nECO_Exit_DATE'].notna()\n",
    "# ]\n",
    "\n",
    "df_eco_filtered#.head(100)\n",
    "\n",
    "# checking the condition bdi3 eco exit date is not null"
   ]
  },
  {
   "cell_type": "code",
   "execution_count": null,
   "id": "9e1065f7-d6b0-456a-8dc2-c06bd3194961",
   "metadata": {},
   "outputs": [],
   "source": [
    "#checking the child is present atleast 6 months\n",
    "df_eco_days = df_eco_filtered[df_eco_filtered['<Calc> Months in Program'] >= 6]\n",
    "df_eco_days"
   ]
  },
  {
   "cell_type": "code",
   "execution_count": null,
   "id": "895e6a7c-85a0-4931-af97-6006a1542db1",
   "metadata": {},
   "outputs": [],
   "source": [
    "# to filter the bdi3 entry date is not null\n",
    "df_eco_days_nobdi2_data = df_eco_days[df_eco_days['BDI 3\\nECO_Entry_DATE'].notna()]\n",
    "df_eco_days_nobdi2_data"
   ]
  },
  {
   "cell_type": "code",
   "execution_count": null,
   "id": "09b2c9ae-33a3-4e7d-b42c-a319b8b0fe0b",
   "metadata": {},
   "outputs": [],
   "source": [
    "# #method 2\n",
    "# # Convert ECO_Entry_DATE and ECO_Exit_DATE columns to datetime format\n",
    "# df_eco_filtered['ECO_Entry_DATE'] = pd.to_datetime(df_eco_filtered['ECO_Entry_DATE'], errors='coerce')\n",
    "# df_eco_filtered['ECO_Exit_DATE'] = pd.to_datetime(df_eco_filtered['ECO_Exit_DATE'], errors='coerce')\n",
    "\n",
    "# # Subtract ECO_Entry_DATE from ECO_Exit_DATE to get the difference\n",
    "# df_eco_filtered['Days_Difference'] = (df_eco_filtered['ECO_Exit_DATE'] - df_eco_filtered['ECO_Entry_DATE']).dt.days\n",
    "# df_filtered_180 = df_eco_filtered[df_eco_filtered['Days_Difference'] > 180]\n",
    "# df_filtered_180\n"
   ]
  },
  {
   "cell_type": "code",
   "execution_count": null,
   "id": "7f103b12-62af-401e-89f6-20fe6f839a84",
   "metadata": {},
   "outputs": [],
   "source": [
    "\n",
    "# df_filtered_180['Entry Test Date'] = df_filtered_180['BDI 3\\nECO_Entry_DATE'].where(df_filtered_180['BDI 3\\nECO_Entry_DATE'] == df_filtered_180['ECO_Entry_DATE'], other = df_filtered_180['BDI2 Entry Date'])\n",
    "# filter_eco_new = df_filtered_180[df_filtered_180['Entry Test Date'].notna()]\n",
    "# filter_eco_new\n",
    "\n",
    "\n",
    "# Kanthi's line of code\n",
    "# df_eco_days['Entry Test Date'] = df_eco_days['BDI 3\\nECO_Entry_DATE'].where(df_eco_days['BDI 3\\nECO_Entry_DATE'] == df_eco_days['ECO_Entry_DATE'], other = df_eco_days['BDI2 Entry Date'])\n",
    "# filter_eco_new = df_eco_days[df_eco_days['Entry Test Date'].notna()]\n",
    "# filter_eco_new"
   ]
  },
  {
   "cell_type": "markdown",
   "id": "6a30295f-e015-4d41-a8ca-491920b84dc3",
   "metadata": {},
   "source": [
    "### merging data frames"
   ]
  },
  {
   "cell_type": "code",
   "execution_count": null,
   "id": "d8c6c942-a8d3-4ada-aea5-d5a1727da20b",
   "metadata": {},
   "outputs": [],
   "source": [
    "#bdi3_new_columns\n",
    "\n",
    "merge_eco_bdi3 = pd.merge(bdi3_new_columns, df_eco_days_nobdi2_data, left_on='TEIDS Child ID', right_on='CHILD_ID', how='inner')\n",
    "\n",
    "# merge_eco_bdi3 = pd.merge(\n",
    "#     bdi3_new_columns_1, \n",
    "#     filter_eco_new, \n",
    "#     left_on=['TEIDS Child ID', 'Motor-Fine Motor Date of Testing'], \n",
    "#     right_on=['CHILD_ID', 'BDI 3\\nECO_Entry_DATE'], \n",
    "#     how='inner'\n",
    "# )\n",
    "merge_eco_bdi3\n",
    "# df_merge"
   ]
  },
  {
   "cell_type": "code",
   "execution_count": null,
   "id": "70824ab4-e3da-4222-990c-7e807b072adf",
   "metadata": {},
   "outputs": [],
   "source": []
  },
  {
   "cell_type": "code",
   "execution_count": null,
   "id": "cb6632f1-d88e-47ee-8137-a83f8960dad2",
   "metadata": {},
   "outputs": [],
   "source": [
    "new_eco_bdi3 = merge_eco_bdi3.copy()\n",
    "\n",
    "new_eco_bdi3['Motor-Fine Motor Date of Testing'] = pd.to_datetime(new_eco_bdi3['Motor-Fine Motor Date of Testing'], errors='coerce')\n",
    "new_eco_bdi3['BDI 3\\nECO_Entry_DATE'] = pd.to_datetime(new_eco_bdi3['BDI 3\\nECO_Entry_DATE'], errors='coerce')\n",
    "\n",
    "# Check if the condition is met once and store the result\n",
    "condition_met = new_eco_bdi3['Motor-Fine Motor Date of Testing'] == new_eco_bdi3['BDI 3\\nECO_Entry_DATE']\n",
    "\n",
    "# Columns to create using the condition\n",
    "columns_to_check = [\n",
    "    'Social-Emotional Developmental Quotient',\n",
    "    'Social Emotional-Adult Interaction RS',\n",
    "    'Social Emotional-Peer Interaction RS',\n",
    "    'Social Emotional-Self Concept / Social Role RS',\n",
    "    'Social-Emotional Z-Score',\n",
    "    'Social Emotional-Adult Interaction Z-Score',\n",
    "    'Social Emotional-Peer Interaction Z-Score',\n",
    "    'Social Emotional-Self Concept / Social Role Z-Score'\n",
    "]\n",
    "\n",
    "# Prefix to be added for new columns\n",
    "new_column_prefix = 'bdi3_'\n",
    "\n",
    "# Loop through the columns and create new ones using np.where\n",
    "for col in columns_to_check:\n",
    "    new_eco_bdi3[f'{new_column_prefix}{col}_entry'] = np.where(\n",
    "        condition_met, \n",
    "        new_eco_bdi3[col], \n",
    "        np.nan\n",
    "    )\n",
    "\n",
    "# Create the new DataFrame with only the required columns\n",
    "new_outcome_A = new_eco_bdi3[['TEIDS Child ID'] + [f'{new_column_prefix}{col}_entry' for col in columns_to_check]]\n",
    "\n",
    "# Display the new DataFrame\n",
    "new_outcome_A\n"
   ]
  },
  {
   "cell_type": "code",
   "execution_count": null,
   "id": "1531705e-a915-4fd7-bacb-b373294fd93d",
   "metadata": {},
   "outputs": [],
   "source": [
    "new_eco_bdi3 = merge_eco_bdi3.copy()\n",
    "\n",
    "new_eco_bdi3['Motor-Fine Motor Date of Testing'] = pd.to_datetime(new_eco_bdi3['Motor-Fine Motor Date of Testing'], errors='coerce')\n",
    "new_eco_bdi3['BDI 3\\nECO_Exit_DATE'] = pd.to_datetime(new_eco_bdi3['BDI 3\\nECO_Exit_DATE'], errors='coerce')\n",
    "\n",
    "# Check if the condition is met once and store the result\n",
    "condition_met = new_eco_bdi3['Motor-Fine Motor Date of Testing'] == new_eco_bdi3['BDI 3\\nECO_Exit_DATE']\n",
    "\n",
    "# Columns to create using the condition\n",
    "columns_to_check = [\n",
    "    'Social-Emotional Developmental Quotient',\n",
    "    'Social Emotional-Adult Interaction RS',\n",
    "    'Social Emotional-Peer Interaction RS',\n",
    "    'Social Emotional-Self Concept / Social Role RS',\n",
    "    'Social-Emotional Z-Score',\n",
    "    'Social Emotional-Adult Interaction Z-Score',\n",
    "    'Social Emotional-Peer Interaction Z-Score',\n",
    "    'Social Emotional-Self Concept / Social Role Z-Score'\n",
    "]\n",
    "\n",
    "# Prefix to be added for new columns\n",
    "new_column_prefix = 'bdi3_'\n",
    "\n",
    "# Loop through the columns and create new ones using np.where\n",
    "for col in columns_to_check:\n",
    "    new_eco_bdi3[f'{new_column_prefix}{col}_exit'] = np.where(\n",
    "        condition_met, \n",
    "        new_eco_bdi3[col], \n",
    "        np.nan\n",
    "    )\n",
    "\n",
    "# Create the new DataFrame with only the required columns\n",
    "new_outcome_A1 = new_eco_bdi3[['TEIDS Child ID'] + [f'{new_column_prefix}{col}_exit' for col in columns_to_check]]\n",
    "\n",
    "# Display the new DataFrame\n",
    "new_outcome_A1"
   ]
  },
  {
   "cell_type": "code",
   "execution_count": null,
   "id": "55829901-306f-45a4-9b93-2f05fcf2234f",
   "metadata": {},
   "outputs": [],
   "source": []
  },
  {
   "cell_type": "code",
   "execution_count": null,
   "id": "e9fda184-ec7a-4217-8856-6021b020d41f",
   "metadata": {},
   "outputs": [],
   "source": []
  },
  {
   "cell_type": "code",
   "execution_count": null,
   "id": "c699a512-e1f2-4994-9625-05fecdf08463",
   "metadata": {},
   "outputs": [],
   "source": []
  }
 ],
 "metadata": {
  "kernelspec": {
   "display_name": "Python 3 (ipykernel)",
   "language": "python",
   "name": "python3"
  },
  "language_info": {
   "codemirror_mode": {
    "name": "ipython",
    "version": 3
   },
   "file_extension": ".py",
   "mimetype": "text/x-python",
   "name": "python",
   "nbconvert_exporter": "python",
   "pygments_lexer": "ipython3",
   "version": "3.12.7"
  }
 },
 "nbformat": 4,
 "nbformat_minor": 5
}
